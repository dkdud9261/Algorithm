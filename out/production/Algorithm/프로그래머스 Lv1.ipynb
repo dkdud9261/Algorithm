{
 "cells": [
  {
   "cell_type": "code",
   "execution_count": null,
   "id": "957cd766",
   "metadata": {
    "pycharm": {
     "name": "#%%\n"
    }
   },
   "outputs": [],
   "source": [
    "// 소수만들기\n",
    "import java.util.*;\n",
    "\n",
    "class Solution {\n",
    "    int cnt = 0;\n",
    "\n",
    "    public boolean isPrime(int n) {\n",
    "        if (n <= 1) return false;\n",
    "        if (n == 2) return true;\n",
    "        for(int i = 2; i <= Math.sqrt(n); i++) {\n",
    "            if(n % i == 0) return false;\n",
    "        }\n",
    "        return true;\n",
    "    }\n",
    "\n",
    "    public void comb(int[] arr, int r, int start, boolean[] visited) {\n",
    "        if(r == 0) {\n",
    "            int sum = 0;\n",
    "            for(int i = 0; i < arr.length; i++) {\n",
    "                if(visited[i]) sum += arr[i];\n",
    "            }\n",
    "            if(isPrime(sum)) cnt++;\n",
    "            return;\n",
    "        }\n",
    "        for(int i = start; i < arr.length; i++) {\n",
    "            if(!visited[i]) {\n",
    "                visited[i] = true;\n",
    "                comb(arr, r-1, i+1, visited);\n",
    "                visited[i] = false;\n",
    "            }\n",
    "        }\n",
    "    }\n",
    "\n",
    "    public int solution(int[] nums) {\n",
    "        comb(nums, 3, 0, new boolean[nums.length]);\n",
    "        return cnt;\n",
    "    }\n",
    "}"
   ]
  },
  {
   "cell_type": "code",
   "execution_count": null,
   "outputs": [],
   "source": [
    "// 모의고사\n",
    "class Solution {\n",
    "    public int[] solution(int[] answers) {\n",
    "        int[][] supo = {{1,2,3,4,5},{2,1,2,3,2,4,2,5},{3,3,1,1,2,2,4,4,5,5}};\n",
    "        int i1=0, i2=0, i3=0;\n",
    "        int[] cnt = {0,0,0};\n",
    "        for(int a : answers) {\n",
    "            if(supo[0][i1] == a) cnt[0]++;\n",
    "            if(supo[1][i2] == a) cnt[1]++;\n",
    "            if(supo[2][i3] == a) cnt[2]++;\n",
    "            i1 = (i1+1)%5;\n",
    "            i2 = (i2+1)%8;\n",
    "            i3 = (i3+1)%10;\n",
    "        }\n",
    "        int max = Math.max(cnt[0], Math.max(cnt[1], cnt[2]));\n",
    "        int n=0;\n",
    "        for(int i = 0; i < 3; i++) {\n",
    "            if(cnt[i] == max) n++;\n",
    "        }\n",
    "        int[] answer = new int[n];\n",
    "        int i = 0;\n",
    "        for(int j = 0; j < 3; j++) {\n",
    "            if(cnt[j] == max) answer[i++] = j+1;\n",
    "        }\n",
    "        return answer;\n",
    "    }\n",
    "}"
   ],
   "metadata": {
    "collapsed": false,
    "pycharm": {
     "name": "#%%\n"
    }
   }
  }
 ],
 "metadata": {
  "kernelspec": {
   "display_name": "Java",
   "language": "java",
   "name": "java"
  },
  "language_info": {
   "codemirror_mode": "java",
   "file_extension": ".jshell",
   "mimetype": "text/x-java-source",
   "name": "Java",
   "pygments_lexer": "java",
   "version": "17.0.2+8-LTS-86"
  }
 },
 "nbformat": 4,
 "nbformat_minor": 5
}