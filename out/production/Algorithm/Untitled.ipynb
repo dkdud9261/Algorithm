{
 "cells": [
  {
   "cell_type": "code",
   "execution_count": null,
   "id": "ad741a5a",
   "metadata": {},
   "outputs": [],
   "source": [
    "// 타겟 넘버\n",
    "class Solution {\n",
    "    \n",
    "    public int search(int[] numbers, int target, int result, int r) {\n",
    "        if(r == numbers.length) {\n",
    "            if(result == target) return 1;\n",
    "            return 0;\n",
    "        }\n",
    "        return search(numbers, target, result + numbers[r], r+1) +\n",
    "            search(numbers, target, result - numbers[r], r+1);\n",
    "    }\n",
    "    \n",
    "    public int solution(int[] numbers, int target) {\n",
    "        int answer = 0;\n",
    "        answer = search(numbers, target, 0, 0);\n",
    "        return answer;\n",
    "    }\n",
    "}"
   ]
  },
  {
   "cell_type": "code",
   "execution_count": 5,
   "id": "938a65d9",
   "metadata": {},
   "outputs": [],
   "source": [
    "import java.util.*;\n",
    "\n",
    "class Solution\n",
    "{\n",
    "    public static int solution(String s)\n",
    "    {\n",
    "        int[] x = new int[26];\n",
    "        for(int i = 0; i < s.length(); i++) x[(int)s.charAt(i)-'a']++;\n",
    "        for(int i = 0; i < 26; i++) {\n",
    "            if(x[i]%2 != 0) return 0;\n",
    "        }\n",
    "        String[] xx = new String[26];\n",
    "        StringBuilder sb = new StringBuilder();\n",
    "        int j = 0;\n",
    "        for(int i = 'a'; i <= 'z'; i++) {\n",
    "            sb.append((char)i).append((char)i);\n",
    "            xx[j++] = sb.toString();\n",
    "            sb.setLength(0);\n",
    "        }\n",
    "        while(true) {\n",
    "            String temp = s;\n",
    "            for(int i = 0; i < 26; i++) {\n",
    "                if(x[i-'a'] == 0) continue;\n",
    "                s = s.replaceAll(xx[i], \"\");\n",
    "            }\n",
    "            if(s.equals(\"\")) return 1;\n",
    "            if(temp.equals(s)) return 0;\n",
    "        }\n",
    "    }\n",
    "}"
   ]
  },
  {
   "cell_type": "code",
   "execution_count": 6,
   "id": "bbf40092",
   "metadata": {},
   "outputs": [
    {
     "ename": "EvalException",
     "evalue": "Index -97 out of bounds for length 26",
     "output_type": "error",
     "traceback": [
      "\u001b[1m\u001b[31m---------------------------------------------------------------------------\u001b[0m",
      "\u001b[1m\u001b[31mjava.lang.ArrayIndexOutOfBoundsException: Index -97 out of bounds for length 26\u001b[0m",
      "\u001b[1m\u001b[31m\tat Solution.solution(#12:1)\u001b[0m",
      "\u001b[1m\u001b[31m\tat .(#16:1)\u001b[0m"
     ]
    }
   ],
   "source": [
    "Solution.solution(\"baabaa\");"
   ]
  },
  {
   "cell_type": "code",
   "execution_count": null,
   "id": "f22724a2",
   "metadata": {},
   "outputs": [],
   "source": []
  }
 ],
 "metadata": {
  "kernelspec": {
   "display_name": "Java",
   "language": "java",
   "name": "java"
  },
  "language_info": {
   "codemirror_mode": "java",
   "file_extension": ".jshell",
   "mimetype": "text/x-java-source",
   "name": "Java",
   "pygments_lexer": "java",
   "version": "17.0.2+8-LTS-86"
  }
 },
 "nbformat": 4,
 "nbformat_minor": 5
}
