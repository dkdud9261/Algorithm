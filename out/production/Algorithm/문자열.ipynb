{
 "cells": [
  {
   "cell_type": "code",
   "execution_count": 19,
   "id": "77f5f813",
   "metadata": {},
   "outputs": [],
   "source": [
    "// 잃어버린 괄호(1541)\n",
    "import java.util.*;\n",
    "import java.io.*;\n",
    "\n",
    "public class Main {\n",
    "    \n",
    "    public static void main(String[] args) throws Exception {\n",
    "        BufferedReader br = new BufferedReader(new InputStreamReader(System.in));\n",
    "        StringTokenizer st = new StringTokenizer(br.readLine());\n",
    "        String ex = st.nextToken();\n",
    "        ArrayList<String> operand = new ArrayList<>();\n",
    "        StringBuilder sb = new StringBuilder();\n",
    "        for(int i = 0; i < ex.length(); i++) {\n",
    "            char c = ex.charAt(i);\n",
    "            if(c == '+' || c == '-') {\n",
    "                operand.add(sb.toString());\n",
    "                operand.add(c+\"\");\n",
    "                sb.setLength(0);\n",
    "            } \n",
    "            else sb.append(c);\n",
    "        }\n",
    "        operand.add(sb.toString());\n",
    "        if(operand.contains(\"+\")) {\n",
    "            for(int i = 0; i < operand.size(); i++) {\n",
    "                if(operand.get(i).equals(\"+\")) {\n",
    "                    int a = Integer.parseInt(operand.get(i-1));\n",
    "                    int b = Integer.parseInt(operand.get(i+1));\n",
    "                    operand.add(i-1, (a+b)+\"\");\n",
    "                    operand.remove(i);\n",
    "                    operand.remove(i);\n",
    "                    operand.remove(i);\n",
    "                    i--;\n",
    "                }\n",
    "            }\n",
    "        }\n",
    "        if(operand.contains(\"-\")) {\n",
    "            for(int i = 0; i < operand.size(); i++) {\n",
    "                if(operand.get(i).equals(\"-\")) {\n",
    "                    int a = Integer.parseInt(operand.get(i-1));\n",
    "                    int b = Integer.parseInt(operand.get(i+1));\n",
    "                    operand.add(i-1, (a-b)+\"\");\n",
    "                    operand.remove(i);\n",
    "                    operand.remove(i);\n",
    "                    operand.remove(i);\n",
    "                    i--;\n",
    "                }\n",
    "            }\n",
    "        }\n",
    "        System.out.println(operand.get(0));\n",
    "    }\n",
    "}"
   ]
  },
  {
   "cell_type": "code",
   "execution_count": 20,
   "id": "52f0af89",
   "metadata": {},
   "outputs": [
    {
     "name": "stdout",
     "output_type": "stream",
     "text": [
      "[-35]\n"
     ]
    }
   ],
   "source": [
    "main(\"55-50+40\")"
   ]
  },
  {
   "cell_type": "code",
   "execution_count": 21,
   "id": "e6f49708",
   "metadata": {},
   "outputs": [
    {
     "name": "stdout",
     "output_type": "stream",
     "text": [
      "[100]\n"
     ]
    }
   ],
   "source": [
    "main(\"10+20+30+40\")"
   ]
  },
  {
   "cell_type": "code",
   "execution_count": 22,
   "id": "8bca0b26",
   "metadata": {},
   "outputs": [
    {
     "name": "stdout",
     "output_type": "stream",
     "text": [
      "[0]\n"
     ]
    }
   ],
   "source": [
    "main(\"0009-00009\");"
   ]
  },
  {
   "cell_type": "code",
   "execution_count": 23,
   "id": "667d6fe3",
   "metadata": {},
   "outputs": [],
   "source": [
    "// AC (5430)\n",
    "import java.util.*;\n",
    "import java.io.*;\n",
    "\n",
    "public class Main {\n",
    "    // R : 순서 뒤집기, D : 첫번째 버리기(비었을 때는 error)\n",
    "    public static void main(String[] args) throws Exception {\n",
    "        BufferedReader br = new BufferedReader(new InputStreamReader(System.in));\n",
    "        BufferedWriter bw = new BufferedWriter(new OutputStreamWriter(System.out));\n",
    "        int T = Integer.parseInt(br.readLine());\n",
    "\n",
    "        for(int t = 0; t < T; t++) {\n",
    "            String cmd = br.readLine();\n",
    "            int l = Integer.parseInt(br.readLine());\n",
    "            String str = br.readLine();\n",
    "            if(l == 0) {\n",
    "                if(cmd.contains(\"D\")) bw.write(\"error\\n\");\n",
    "                else bw.write(\"[]\\n\");\n",
    "                continue;\n",
    "            }\n",
    "            int[] arr = new int[l];\n",
    "            int j = 0;\n",
    "            StringBuilder sb = new StringBuilder();\n",
    "            for(int i = 1; i < str.length()-1; i++) {\n",
    "                char c = str.charAt(i);\n",
    "                if(c == ',') {\n",
    "                    arr[j++] = Integer.parseInt(sb.toString());\n",
    "                    sb.setLength(0);\n",
    "                }\n",
    "                else sb.append(c);\n",
    "            }\n",
    "            arr[j] = Integer.parseInt(sb.toString());\n",
    "            boolean error = false;\n",
    "            boolean reverse = false;\n",
    "            int left = 0, right = l-1;\n",
    "            for(int c = 0; c < cmd.length(); c++) {\n",
    "                if(cmd.charAt(c) == 'R') reverse = !reverse;\n",
    "                else {\n",
    "                    if(left > right) {\n",
    "                        bw.write(\"error\\n\");\n",
    "                        error = true;\n",
    "                        break;\n",
    "                    }\n",
    "                    else {\n",
    "                        if(reverse) right--;\n",
    "                        else left++;\n",
    "                    }\n",
    "                }\n",
    "            }\n",
    "\n",
    "            if(!error) {\n",
    "                if(left <= right) {\n",
    "                    bw.write(\"[\");\n",
    "                    if(!reverse) {\n",
    "                        bw.write(String.valueOf(arr[left++]));\n",
    "                        for(;left <= right; left++) {\n",
    "                            bw.write(\",\");\n",
    "                            bw.write(String.valueOf(arr[left]));\n",
    "                        }\n",
    "\n",
    "                    } else {\n",
    "                        bw.write(String.valueOf(arr[right--]));\n",
    "                        for(; right >= left; right--) {\n",
    "                            bw.write(\",\");\n",
    "                            bw.write(String.valueOf(arr[right]));\n",
    "                        }\n",
    "                    }\n",
    "                    bw.write(\"]\\n\");\n",
    "                }\n",
    "                else bw.write(\"[]\\n\");\n",
    "            }\n",
    "        }\n",
    "        bw.flush();\n",
    "    }\n",
    "}"
   ]
  },
  {
   "cell_type": "code",
   "execution_count": 24,
   "id": "dd1fb741",
   "metadata": {},
   "outputs": [
    {
     "name": "stdout",
     "output_type": "stream",
     "text": [
      "0 1 true\n",
      "[2,1]\n",
      "\n",
      "1 0 false\n",
      "[]\n",
      "\n",
      "1 5 false\n",
      "[1,2,3,5,8]\n",
      "\n",
      "error\n",
      "\n"
     ]
    }
   ],
   "source": [
    "main();"
   ]
  },
  {
   "cell_type": "code",
   "execution_count": null,
   "id": "455acffe",
   "metadata": {},
   "outputs": [],
   "source": []
  }
 ],
 "metadata": {
  "kernelspec": {
   "display_name": "Java",
   "language": "java",
   "name": "java"
  },
  "language_info": {
   "codemirror_mode": "java",
   "file_extension": ".jshell",
   "mimetype": "text/x-java-source",
   "name": "Java",
   "pygments_lexer": "java",
   "version": "17.0.2+8-LTS-86"
  }
 },
 "nbformat": 4,
 "nbformat_minor": 5
}
